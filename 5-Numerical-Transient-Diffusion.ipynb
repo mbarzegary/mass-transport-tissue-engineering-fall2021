{
 "cells": [
  {
   "cell_type": "markdown",
   "metadata": {},
   "source": [
    "# Transient two-dimensional diffusion equation\n",
    "\n",
    "The two-dimensional diffusion equation is\n",
    "\n",
    "\\begin{equation}\n",
    "\\frac{\\partial U}{\\partial t} = D\\left(\\frac{\\partial^2U}{\\partial x^2} + \\frac{\\partial^2U}{\\partial y^2}\\right)\n",
    "\\end{equation}\n",
    "\n",
    "where $D$ is the diffusion coefficient. A simple numerical solution on the domain of the unit square $0≤x<1,0≤y<1$ approximates $U(x,y;t)$ by the discrete function $u(n)i,j$ where $x=i\\Delta x$, $y=j\\Delta y$ and $t=n\\Delta t$. Applying finite difference approximations yields\n",
    "\n",
    "\\begin{equation}\n",
    "\\frac{u_{i,j}^{(n+1)} - u_{i,j}^{(n)}}{\\Delta t} = D\\left[ \\frac{u_{i+1,j}^{(n)} - 2u_{i,j}^{(n)} + u_{i-1,j}^{(n)}}{(\\Delta x)^2} + \\frac{u_{i,j+1}^{(n)} - 2u_{i,j}^{(n)} + u_{i,j-1}^{(n)}}{(\\Delta y)^2} \\right],\n",
    "\\end{equation}\n",
    "\n",
    "and hence the state of the system at time step $n+1, u_{i,j}^{(n+1)}$ may be calculated from its state at time step n, u(n)i,j through the equation\n",
    "\n",
    "\\begin{equation}\n",
    "u_{i,j}^{(n+1)} = u_{i,j}^{(n)} + D\\Delta t\\left[ \\frac{u_{i+1,j}^{(n)} - 2u_{i,j}^{(n)} + u_{i-1,j}^{(n)}}{(\\Delta x)^2} + \\frac{u_{i,j+1}^{(n)} - 2u_{i,j}^{(n)} + u_{i,j-1}^{(n)}}{(\\Delta y)^2} \\right].\n",
    "\\end{equation}\n",
    "\n",
    "Consider the diffusion equation applied to a metal plate initially at temperature $T_\\mathrm{cold}$ apart from a disc of a specified size which is at temperature $T_\\mathrm{hot}$. We suppose that the edges of the plate are held fixed at $T_\\mathrm{cold}$. The following code applies the above formula to follow the evolution of the temperature of the plate. It can be shown that the maximum time step, $\\Delta t$ that we can allow without the process becoming unstable is\n",
    "\n",
    "\\begin{equation}\n",
    "\\Delta t = \\frac{1}{2D}\\frac{(\\Delta x\\Delta y)^2}{(\\Delta x)^2 + (\\Delta y)^2}.\n",
    "\\end{equation}\n"
   ]
  },
  {
   "cell_type": "markdown",
   "metadata": {},
   "source": [
    "In the code below, each call to `do_timestep` updates the numpy array `u` from the results of the previous timestep, `u0`. The simplest approach to applying the partial difference equation is to use a Python loop:\n",
    "\n",
    "```python\n",
    "for i in range(1, nx-1):\n",
    "    for j in range(1, ny-1):\n",
    "        uxx = (u0[i+1,j] - 2*u0[i,j] + u0[i-1,j]) / dx2\n",
    "        uyy = (u0[i,j+1] - 2*u0[i,j] + u0[i,j-1]) / dy2\n",
    "        u[i,j] = u0[i,j] + dt * D * (uxx + uyy)\n",
    "```\n",
    "\n",
    "However, this runs extremely slowly and using vectorization will farm out these explicit loops to the much faster pre-compiled C-code underlying NumPy's array implementation."
   ]
  },
  {
   "cell_type": "code",
   "execution_count": 1,
   "metadata": {},
   "outputs": [
    {
     "name": "stdout",
     "output_type": "stream",
     "text": [
      "319\n",
      "0 1\n",
      "79 2\n",
      "159 3\n",
      "318 4\n"
     ]
    },
    {
     "data": {
      "image/png": "[encoded data removed]",
      "text/plain": [
       "<Figure size 432x288 with 5 Axes>"
      ]
     },
     "metadata": {
      "needs_background": "light"
     },
     "output_type": "display_data"
    }
   ],
   "source": [
    "import numpy as np\n",
    "import matplotlib.pyplot as plt\n",
    "%matplotlib inline\n",
    "\n",
    "# plate size, mm\n",
    "w = h = 10.\n",
    "# intervals in x-, y- directions, mm\n",
    "dx = dy = 0.1\n",
    "# Thermal diffusivity of steel, mm2.s-1\n",
    "D = 4.\n",
    "# final time, s\n",
    "t = 0.2\n",
    "# circle of radius r centred at (cx,cy) (mm)\n",
    "r, cx, cy = 2, 5, 5\n",
    "# cold and hot temperatures\n",
    "Tcool, Thot = 300, 700\n",
    "\n",
    "nx, ny = int(w/dx), int(h/dy)\n",
    "\n",
    "dx2, dy2 = dx*dx, dy*dy\n",
    "dt = dx2 * dy2 / (2 * D * (dx2 + dy2))\n",
    "\n",
    "u0 = Tcool * np.ones((nx, ny))\n",
    "u = u0.copy()\n",
    "\n",
    "# Initial conditions \n",
    "r2 = r**2\n",
    "for i in range(nx):\n",
    "    for j in range(ny):\n",
    "        p2 = (i*dx-cx)**2 + (j*dy-cy)**2\n",
    "        if p2 < r2:\n",
    "            u0[i,j] = Thot\n",
    "\n",
    "def do_timestep(u0, u):\n",
    "    # Propagate with forward-difference in time, central-difference in space\n",
    "    u[1:-1, 1:-1] = u0[1:-1, 1:-1] + D * dt * (\n",
    "          (u0[2:, 1:-1] - 2*u0[1:-1, 1:-1] + u0[:-2, 1:-1])/dx2\n",
    "          + (u0[1:-1, 2:] - 2*u0[1:-1, 1:-1] + u0[1:-1, :-2])/dy2 )\n",
    "\n",
    "    u0 = u.copy()\n",
    "    return u0, u\n",
    "\n",
    "# Number of timesteps\n",
    "nsteps = int(t/dt)\n",
    "print(nsteps)\n",
    "# Output 4 figures at these timesteps\n",
    "mfig = [0, int(nsteps/4), int(nsteps/2), nsteps-1]\n",
    "fignum = 0\n",
    "fig = plt.figure()\n",
    "for m in range(nsteps):\n",
    "    u0, u = do_timestep(u0, u)\n",
    "    if m in mfig:\n",
    "        fignum += 1\n",
    "        print(m, fignum)\n",
    "        ax = fig.add_subplot(220 + fignum)\n",
    "        im = ax.imshow(u.copy(), cmap=plt.get_cmap('hot'), vmin=Tcool,vmax=Thot)\n",
    "        ax.set_axis_off()\n",
    "        ax.set_title('{:.1f} ms'.format(m*dt*1000))\n",
    "fig.subplots_adjust(right=0.85)\n",
    "cbar_ax = fig.add_axes([0.9, 0.15, 0.03, 0.7])\n",
    "cbar_ax.set_xlabel('$T$ / K', labelpad=20)\n",
    "fig.colorbar(im, cax=cbar_ax)\n",
    "plt.show()"
   ]
  },
  {
   "cell_type": "markdown",
   "metadata": {},
   "source": [
    "To set a common `colorbar` for the four plots we define its own `Axes`, `cbar_ax` and make room for it with `fig.subplots_adjust`. The plots all use the same colour range, defined by `vmin` and `vmax`, so it doesn't matter which one we pass in the first argument to `fig.colorbar`.\n",
    "\n",
    "The state of the system is plotted as an image at four different stages of its evolution."
   ]
  }
 ],
 "metadata": {
  "kernelspec": {
   "display_name": "Python 3",
   "language": "python",
   "name": "python3"
  },
  "language_info": {
   "codemirror_mode": {
    "name": "ipython",
    "version": 3
   },
   "file_extension": ".py",
   "mimetype": "text/x-python",
   "name": "python",
   "nbconvert_exporter": "python",
   "pygments_lexer": "ipython3",
   "version": "3.7.4"
  }
 },
 "nbformat": 4,
 "nbformat_minor": 2
}
