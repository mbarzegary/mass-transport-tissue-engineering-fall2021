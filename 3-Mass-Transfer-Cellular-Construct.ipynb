{
 "cells": [
  {
   "cell_type": "markdown",
   "metadata": {},
   "source": [
    "# Mass transfer in cellular construct\n",
    "\n",
    "![Schematic](img/construct.jpg)"
   ]
  },
  {
   "cell_type": "markdown",
   "metadata": {},
   "source": [
    "The problem is to solve the following equation\n",
    "\n",
    "\\begin{equation}\n",
    "\\frac{\\partial \\mathrm{c}}{\\partial \\mathrm{t}}=\\mathrm{D} \\frac{\\partial^{2} \\mathrm{c}}{\\partial \\mathrm{x}^{2}}-\\mathrm{V}_{\\mathrm{max}, \\mathrm{cell}} \\rho_{\\mathrm{cell}}\n",
    "\\end{equation}\n",
    "\n",
    "For a steady state solution, we can neglect the left hand side term, so the equation will be\n",
    "\n",
    "\\begin{equation}\n",
    "\\mathrm{D} \\frac{\\partial^{2} \\mathrm{c}}{\\partial \\mathrm{x}^{2}}-\\mathrm{V}_{\\mathrm{max}, \\mathrm{cell}} \\rho_{\\mathrm{cell}} = 0\n",
    "\\end{equation}\n",
    "\n",
    "We want to know the maximum depth of oxygen penetration. "
   ]
  },
  {
   "cell_type": "markdown",
   "metadata": {},
   "source": [
    "## Solving the equation"
   ]
  },
  {
   "cell_type": "markdown",
   "metadata": {},
   "source": [
    "It is a 1-D problem, so let's say $c = c(x)$ and rewrite the equation as\n",
    "\n",
    "\\begin{equation}\n",
    "D \\frac{d^{2} c}{d x^{2}} = V_m \\rho \\rightarrow \\frac{d^{2} c}{d x^{2}} = \\frac{V_m \\rho}{D}\n",
    "\\end{equation}"
   ]
  },
  {
   "cell_type": "markdown",
   "metadata": {},
   "source": [
    "Integrating both sides of the equation yields:\n",
    "\n",
    "\\begin{equation}\n",
    "\\int \\frac{d^{2} c}{d x^{2}} d x=\\int \\frac{V_m \\rho}{D} d x\n",
    "\\end{equation}\n",
    "\n",
    "\\begin{equation}\n",
    "\\rightarrow \\frac{d c}{d x} = \\frac{V_m \\rho}{D}  x + C_1\n",
    "\\end{equation}"
   ]
  },
  {
   "cell_type": "markdown",
   "metadata": {},
   "source": [
    "We can simply use the second boundary condition to get the value of $C_1$. We know $\\frac{d c}{d x} = 0$ at $x = d$, so:\n",
    "\n",
    "\\begin{equation}\n",
    "0 = \\frac{V_m \\rho}{D}  d + C_1 \\rightarrow C_1 = - \\frac{V_m \\rho d}{D}\n",
    "\\end{equation}"
   ]
  },
  {
   "cell_type": "markdown",
   "metadata": {},
   "source": [
    "We still have a derivative term in the equation, so we integrate it again to eliminate that term:\n",
    "\n",
    "\\begin{equation}\n",
    "\\int \\frac{d c}{d x} d x = \\int \\left(\\frac{V_m \\rho}{D}  x + C_1 \\right) d x\n",
    "\\end{equation}\n",
    "\n",
    "\\begin{equation}\n",
    "\\rightarrow c(x) = \\frac{V_m \\rho}{D} \\frac{x^2}{2} + C_1 x + C_2\n",
    "\\end{equation}"
   ]
  },
  {
   "cell_type": "markdown",
   "metadata": {},
   "source": [
    "We already know the value of $C_1$, and by using the first boundary condition, we can obtain the value of $C_2$ as well. According to the first boundary condition, $c(x) = c_0$ at $x = 0$, so:\n",
    "\n",
    "\\begin{equation}\n",
    "C_2 = c_0\n",
    "\\end{equation}"
   ]
  },
  {
   "cell_type": "markdown",
   "metadata": {},
   "source": [
    "Now, by knowing the value of $C_1$ and $C_2$ and having no remained derivitive in the equation, we can write the equation of the change of concentration of oxygen throughout the construct:\n",
    "\n",
    "\\begin{equation}\n",
    "c(x) = \\frac{V_m \\rho}{D} \\frac{x^2}{2} - \\frac{V_m \\rho d}{D} x + c_0 \\rightarrow c(x) = \\frac{V_m \\rho}{D} \\left( \\frac{x^2}{2} - x d \\right) + c_0\n",
    "\\end{equation}"
   ]
  },
  {
   "cell_type": "markdown",
   "metadata": {},
   "source": [
    "It's the time to calculate the maximum depth of diffusion. It can be simply calculated by finding the value of $x$ at which the concentration of oxygen is zero. Let's denote it by $d_{max}$ (we can say the value of $d$ equals $d_{max}$ as well), and solve the derived equation:\n",
    "\n",
    "\\begin{equation}\n",
    "x = d_{max}, c(x) = 0 \\rightarrow 0 = \\frac{V_m \\rho}{D} \\left( \\frac{{d_{max}}^2}{2} - {d_{max}}^2 \\right) + c_0\n",
    "\\end{equation}\n",
    "\n",
    "\\begin{equation}\n",
    "\\rightarrow d_{\\max }=\\sqrt{2 c_{0} \\frac{D}{V_m \\rho}}\n",
    "\\end{equation}"
   ]
  },
  {
   "cell_type": "markdown",
   "metadata": {},
   "source": [
    "## Solve with Sympy"
   ]
  },
  {
   "cell_type": "code",
   "execution_count": 1,
   "metadata": {},
   "outputs": [
    {
     "name": "stdout",
     "output_type": "stream",
     "text": [
      "\n"
     ]
    }
   ],
   "source": [
    "from sympy import init_session\n",
    "init_session(quiet=True)"
   ]
  },
  {
   "cell_type": "code",
   "execution_count": 2,
   "metadata": {},
   "outputs": [
    {
     "data": {
      "image/png": "[encoded data removed]",
      "text/latex": [
       "$\\displaystyle D \\frac{d^{2}}{d x^{2}} c{\\left(x \\right)} - V_{m} \\rho = 0$"
      ],
      "text/plain": [
       "    2                 \n",
       "   d                  \n",
       "D⋅───(c(x)) - Vₘ⋅ρ = 0\n",
       "    2                 \n",
       "  dx                  "
      ]
     },
     "execution_count": 2,
     "metadata": {},
     "output_type": "execute_result"
    }
   ],
   "source": [
    "x, D, V, rho = symbols(\"x, D, V_m, rho\", positive=True)\n",
    "c = Function(\"c\") \n",
    "ode = D * c(x).diff(x, 2) - V * rho\n",
    "Eq(ode, 0)"
   ]
  },
  {
   "cell_type": "code",
   "execution_count": 3,
   "metadata": {},
   "outputs": [
    {
     "data": {
      "image/png": "[encoded data removed]",
      "text/latex": [
       "$\\displaystyle c{\\left(x \\right)} = C_{1} + C_{2} x + \\frac{V_{m} \\rho x^{2}}{2 D}$"
      ],
      "text/plain": [
       "                         2\n",
       "                   Vₘ⋅ρ⋅x \n",
       "c(x) = C₁ + C₂⋅x + ───────\n",
       "                     2⋅D  "
      ]
     },
     "execution_count": 3,
     "metadata": {},
     "output_type": "execute_result"
    }
   ],
   "source": [
    "ode_sol = dsolve(ode)\n",
    "ode_sol"
   ]
  },
  {
   "cell_type": "code",
   "execution_count": 4,
   "metadata": {},
   "outputs": [
    {
     "data": {
      "image/png": "[encoded data removed]",
      "text/latex": [
       "$\\displaystyle \\left[ - C_{1} + c_{0} = 0, \\  - C_{2} - \\frac{V_{m} d \\rho}{D} = 0\\right]$"
      ],
      "text/plain": [
       "⎡                    Vₘ⋅d⋅ρ    ⎤\n",
       "⎢-C₁ + c₀ = 0, -C₂ - ────── = 0⎥\n",
       "⎣                      D       ⎦"
      ]
     },
     "execution_count": 4,
     "metadata": {},
     "output_type": "execute_result"
    }
   ],
   "source": [
    "c0, d = symbols(\"c_0, d\", positive=True)\n",
    "ics = {c(0): c0, c(x).diff(x).subs(x, d): 0}\n",
    "parameters = ode_sol.free_symbols - set([D, V, rho, x])\n",
    "eq1 = (ode_sol.lhs - ode_sol.rhs).subs(x, 0).subs(ics)\n",
    "eq2 = (ode_sol.lhs - ode_sol.rhs).diff(x).subs(x, d).subs(ics)\n",
    "eqs = [eq1, eq2]\n",
    "[Eq(eq1, 0), Eq(eq2, 0)]"
   ]
  },
  {
   "cell_type": "code",
   "execution_count": 5,
   "metadata": {},
   "outputs": [
    {
     "data": {
      "image/png": "[encoded data removed]",
      "text/latex": [
       "$\\displaystyle \\left\\{ C_{1} : c_{0}, \\  C_{2} : - \\frac{V_{m} d \\rho}{D}\\right\\}$"
      ],
      "text/plain": [
       "⎧            -Vₘ⋅d⋅ρ ⎫\n",
       "⎨C₁: c₀, C₂: ────────⎬\n",
       "⎩               D    ⎭"
      ]
     },
     "execution_count": 5,
     "metadata": {},
     "output_type": "execute_result"
    }
   ],
   "source": [
    "sol_params = solve(eqs, parameters)\n",
    "sol_params"
   ]
  },
  {
   "cell_type": "code",
   "execution_count": 6,
   "metadata": {},
   "outputs": [
    {
     "data": {
      "image/png": "[encoded data removed]",
      "text/latex": [
       "$\\displaystyle c{\\left(x \\right)} = c_{0} - \\frac{V_{m} d \\rho x}{D} + \\frac{V_{m} \\rho x^{2}}{2 D}$"
      ],
      "text/plain": [
       "                             2\n",
       "            Vₘ⋅d⋅ρ⋅x   Vₘ⋅ρ⋅x \n",
       "c(x) = c₀ - ──────── + ───────\n",
       "               D         2⋅D  "
      ]
     },
     "execution_count": 6,
     "metadata": {},
     "output_type": "execute_result"
    }
   ],
   "source": [
    "cx_sol = ode_sol.subs(sol_params)\n",
    "cx_sol"
   ]
  },
  {
   "cell_type": "code",
   "execution_count": 7,
   "metadata": {},
   "outputs": [
    {
     "data": {
      "image/png": "[encoded data removed]",
      "text/latex": [
       "$\\displaystyle 0 = c_{0} - \\frac{V_{m} d_{max}^{2} \\rho}{2 D}$"
      ],
      "text/plain": [
       "                2  \n",
       "         Vₘ⋅dₘₐₓ ⋅ρ\n",
       "0 = c₀ - ──────────\n",
       "            2⋅D    "
      ]
     },
     "execution_count": 7,
     "metadata": {},
     "output_type": "execute_result"
    }
   ],
   "source": [
    "d_max = symbols(\"d_max\", positive=True)\n",
    "d_eq = cx_sol.subs(c(x), 0).subs(x, d_max).subs(d, d_max)\n",
    "d_eq"
   ]
  },
  {
   "cell_type": "code",
   "execution_count": 8,
   "metadata": {},
   "outputs": [
    {
     "data": {
      "image/png": "[encoded data removed]",
      "text/latex": [
       "$\\displaystyle d_{max} = \\frac{\\sqrt{2} \\sqrt{D} \\sqrt{c_{0}}}{\\sqrt{V_{m}} \\sqrt{\\rho}}$"
      ],
      "text/plain": [
       "               ____\n",
       "       √2⋅√D⋅╲╱ c₀ \n",
       "dₘₐₓ = ────────────\n",
       "          ____     \n",
       "        ╲╱ Vₘ ⋅√ρ  "
      ]
     },
     "execution_count": 8,
     "metadata": {},
     "output_type": "execute_result"
    }
   ],
   "source": [
    "ans = solve(d_eq, d_max)[0]\n",
    "Eq(d_max, ans)"
   ]
  }
 ],
 "metadata": {
  "kernelspec": {
   "display_name": "Python 3",
   "language": "python",
   "name": "python3"
  },
  "language_info": {
   "codemirror_mode": {
    "name": "ipython",
    "version": 3
   },
   "file_extension": ".py",
   "mimetype": "text/x-python",
   "name": "python",
   "nbconvert_exporter": "python",
   "pygments_lexer": "ipython3",
   "version": "3.7.4"
  }
 },
 "nbformat": 4,
 "nbformat_minor": 2
}
