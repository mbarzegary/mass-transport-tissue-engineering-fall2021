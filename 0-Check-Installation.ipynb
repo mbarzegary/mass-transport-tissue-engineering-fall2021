{
 "cells": [
  {
   "cell_type": "markdown",
   "metadata": {},
   "source": [
    "# Simple calculus\n",
    "\n",
    "Let's do some simple calculus. First, load the required package."
   ]
  },
  {
   "cell_type": "code",
   "execution_count": 1,
   "metadata": {},
   "outputs": [
    {
     "name": "stdout",
     "output_type": "stream",
     "text": [
      "\n"
     ]
    }
   ],
   "source": [
    "from sympy import init_session\n",
    "init_session(quiet=True)"
   ]
  },
  {
   "cell_type": "markdown",
   "metadata": {},
   "source": [
    "Now, we can define the desired function and use the *integral* function to perform the integration."
   ]
  },
  {
   "cell_type": "code",
   "execution_count": 2,
   "metadata": {},
   "outputs": [],
   "source": [
    "f = exp(3*x) * cos(x)\n",
    "a = Integral(f, x)"
   ]
  },
  {
   "cell_type": "markdown",
   "metadata": {},
   "source": [
    "With a combination of *Eq* and *doit*, we can display a nice output."
   ]
  },
  {
   "cell_type": "code",
   "execution_count": 3,
   "metadata": {},
   "outputs": [
    {
     "data": {
      "image/png": "[encoded data removed]",
      "text/latex": [
       "$\\displaystyle \\int e^{3 x} \\cos{\\left(x \\right)}\\, dx = \\frac{e^{3 x} \\sin{\\left(x \\right)}}{10} + \\frac{3 e^{3 x} \\cos{\\left(x \\right)}}{10}$"
      ],
      "text/plain": [
       "⌠                   3⋅x             3⋅x       \n",
       "⎮  3⋅x             ℯ   ⋅sin(x)   3⋅ℯ   ⋅cos(x)\n",
       "⎮ ℯ   ⋅cos(x) dx = ─────────── + ─────────────\n",
       "⌡                       10             10     "
      ]
     },
     "execution_count": 3,
     "metadata": {},
     "output_type": "execute_result"
    }
   ],
   "source": [
    "Eq(a, a.doit())"
   ]
  },
  {
   "cell_type": "markdown",
   "metadata": {},
   "source": [
    "What about some differentiation?"
   ]
  },
  {
   "cell_type": "code",
   "execution_count": 4,
   "metadata": {},
   "outputs": [
    {
     "data": {
      "image/png": "[encoded data removed]",
      "text/latex": [
       "$\\displaystyle \\frac{d}{d x} e^{3 x} \\cos{\\left(x \\right)} = - e^{3 x} \\sin{\\left(x \\right)} + 3 e^{3 x} \\cos{\\left(x \\right)}$"
      ],
      "text/plain": [
       "d ⎛ 3⋅x       ⎞      3⋅x             3⋅x       \n",
       "──⎝ℯ   ⋅cos(x)⎠ = - ℯ   ⋅sin(x) + 3⋅ℯ   ⋅cos(x)\n",
       "dx                                             "
      ]
     },
     "execution_count": 4,
     "metadata": {},
     "output_type": "execute_result"
    }
   ],
   "source": [
    "b = Derivative(f, x)\n",
    "Eq(b, b.doit())"
   ]
  }
 ],
 "metadata": {
  "kernelspec": {
   "display_name": "Python 3",
   "language": "python",
   "name": "python3"
  },
  "language_info": {
   "codemirror_mode": {
    "name": "ipython",
    "version": 3
   },
   "file_extension": ".py",
   "mimetype": "text/x-python",
   "name": "python",
   "nbconvert_exporter": "python",
   "pygments_lexer": "ipython3",
   "version": "3.8.2"
  }
 },
 "nbformat": 4,
 "nbformat_minor": 2
}
