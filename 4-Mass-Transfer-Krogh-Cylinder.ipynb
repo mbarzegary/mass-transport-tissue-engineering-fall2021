{
 "cells": [
  {
   "cell_type": "markdown",
   "metadata": {},
   "source": [
    "# Mass transfer in the Krogh cylinder\n",
    "\n",
    "![Hydrogel Schematic](img/krogh.png)"
   ]
  },
  {
   "cell_type": "markdown",
   "metadata": {},
   "source": [
    "The problem is to solve the following equation in the cylindrical coordinates. \n",
    "\n",
    "\\begin{equation}\n",
    "\\frac{D_{O_2}}{r} \\frac{d}{d r}\\left(r \\frac{d C_{O_2}}{d r}\\right)=R_{O_2}\n",
    "\\end{equation}\n",
    "\n",
    "Let's simplify the equation so as the symbols imply $c = C_{O_2}, D = D_{O_2}, R = R_{O_2}$:\n",
    "\n",
    "\\begin{equation}\n",
    "\\frac{D}{r} \\frac{d}{d r}\\left(r \\frac{d c}{d r}\\right)=R\n",
    "\\end{equation}\n",
    "\n",
    "The boundary conditions for the Krogh cylinder are:\n",
    "\n",
    "\\begin{equation}\n",
    "\\begin{array}{l}\n",
    "r=R_{c} \\rightarrow c=C_{R_{c}} \\\\\n",
    "r=R_{0} \\rightarrow \\frac{d c}{d r}=0\n",
    "\\end{array}\n",
    "\\end{equation}"
   ]
  },
  {
   "cell_type": "markdown",
   "metadata": {},
   "source": [
    "## Solving the equation"
   ]
  },
  {
   "cell_type": "markdown",
   "metadata": {},
   "source": [
    "Let's solve the equation using calculus principals. It should be taken into account that $c = c(r)$ in this case. We start by integrating both sides of the equation:\n",
    "\n",
    "\\begin{equation}\\int \\frac{d}{d r}\\left(r \\frac{d c}{d r}\\right) dr =\\int \\frac{R r}{D} dr\\end{equation}\n",
    "\n",
    "\\begin{equation}\\rightarrow r \\frac{d c}{d r}=\\frac{R r^{2}}{2 D}+C_1\\end{equation}"
   ]
  },
  {
   "cell_type": "markdown",
   "metadata": {},
   "source": [
    "We can simply use the second boundary condition to get the value of $C_1$. We know $\\frac{d c}{d r} = 0$ at $r = R_0$, so:\n",
    "\n",
    "\\begin{equation}\n",
    "0=\\frac{R R_{0}^{2}}{2 D}+C_{1} \\rightarrow C_{1}=\\frac{-R R_{0}^{2}}{2 D}\n",
    "\\end{equation}"
   ]
  },
  {
   "cell_type": "markdown",
   "metadata": {},
   "source": [
    "We still have a derivitive term in the equation, so we continue to integrate it again to eliminate that term:\n",
    "\n",
    "\\begin{equation}\\int \\frac{d c}{d r}dr=\\int \\frac{R r}{2 D}dr+\\int \\frac{C_{1}}{r}dr\\end{equation}\n",
    "\n",
    "\\begin{equation}\n",
    "\\rightarrow c(r)=\\frac{R r^{2}}{4 D}+C_{1} \\ln (r)+C_{2}\n",
    "\\end{equation}"
   ]
  },
  {
   "cell_type": "markdown",
   "metadata": {},
   "source": [
    "We already know the value of $C_1$, and by using the first boundary condition, we can obtain the value of $C_2$ as well. According to the first boundary condition, $c(r) = C_{R_{c}}$ at $r = R_c$, so (by incorporating the value of $C_1$):\n",
    "\n",
    "\\begin{equation}\n",
    "C_{R_{c}}=\\frac{R R_{c}^{2}}{4 D} -\\frac{R R_{0}^{2}}{2 D} \\ln R_{c}+C_{2}\n",
    "\\end{equation}\n",
    "\n",
    "\\begin{equation}\n",
    "\\rightarrow C_{2}=\\frac{R}{4 D}\\left( 2 R_{0}^{2} \\ln R_{c} -R_{c}^{2}\\right)+C_{R_{c}}\n",
    "\\end{equation}"
   ]
  },
  {
   "cell_type": "markdown",
   "metadata": {},
   "source": [
    "Now, by knowing the value of $C_1$ and $C_2$ and having no remained derivitive in the equation, we can formulate the change of concentration of oxygen throughout the Krogh cylinder:\n",
    "\n",
    "\\begin{equation}\n",
    "C=\\frac{R r^{2}}{4 D} - \\frac{R R_{0}^{2}}{2 D} \\ln (r)+\\frac{R}{4 D}\\left(2 R_{0}^{2} \\ln R_{c}-R_{c}^{2}\\right)+C_{R_{c}}\n",
    "\\end{equation}\n"
   ]
  },
  {
   "cell_type": "markdown",
   "metadata": {},
   "source": [
    "## Solve with Sympy"
   ]
  },
  {
   "cell_type": "code",
   "execution_count": 1,
   "metadata": {},
   "outputs": [
    {
     "name": "stdout",
     "output_type": "stream",
     "text": [
      "\n"
     ]
    }
   ],
   "source": [
    "from sympy import init_session\n",
    "init_session(quiet=True)"
   ]
  },
  {
   "cell_type": "code",
   "execution_count": 2,
   "metadata": {},
   "outputs": [
    {
     "data": {
      "image/png": "[encoded data removed]",
      "text/latex": [
       "$\\displaystyle \\frac{D \\left(r \\frac{d^{2}}{d r^{2}} c{\\left(r \\right)} + \\frac{d}{d r} c{\\left(r \\right)}\\right)}{r} - R = 0$"
      ],
      "text/plain": [
       "  ⎛    2                 ⎞        \n",
       "  ⎜   d          d       ⎟        \n",
       "D⋅⎜r⋅───(c(r)) + ──(c(r))⎟        \n",
       "  ⎜    2         dr      ⎟        \n",
       "  ⎝  dr                  ⎠        \n",
       "────────────────────────── - R = 0\n",
       "            r                     "
      ]
     },
     "execution_count": 2,
     "metadata": {},
     "output_type": "execute_result"
    }
   ],
   "source": [
    "r, D, R= symbols(\"r, D, R\", positive=True)\n",
    "c = Function(\"c\") \n",
    "ode = D / r * (r * c(r).diff(r)).diff(r) - R\n",
    "Eq(ode, 0)"
   ]
  },
  {
   "cell_type": "code",
   "execution_count": 3,
   "metadata": {},
   "outputs": [
    {
     "data": {
      "image/png": "[encoded data removed]",
      "text/latex": [
       "$\\displaystyle c{\\left(r \\right)} = C_{1} + C_{2} \\log{\\left(r \\right)} + \\frac{R r^{2}}{4 D}$"
      ],
      "text/plain": [
       "                           2\n",
       "                        R⋅r \n",
       "c(r) = C₁ + C₂⋅log(r) + ────\n",
       "                        4⋅D "
      ]
     },
     "execution_count": 3,
     "metadata": {},
     "output_type": "execute_result"
    }
   ],
   "source": [
    "ode_sol = dsolve(ode)\n",
    "ode_sol"
   ]
  },
  {
   "cell_type": "markdown",
   "metadata": {},
   "source": [
    "It worth noting that the `log` function in Python (and of course Sympy) is the same as the `ln` function we all know in mathematics."
   ]
  },
  {
   "cell_type": "code",
   "execution_count": 6,
   "metadata": {},
   "outputs": [
    {
     "data": {
      "image/png": "[encoded data removed]",
      "text/latex": [
       "$\\displaystyle \\left[ - C_{1} - C_{2} \\log{\\left(R_{c} \\right)} + C_{Rc} - \\frac{R R_{c}^{2}}{4 D} = 0, \\  - \\frac{C_{2}}{R_{0}} - \\frac{R R_{0}}{2 D} = 0\\right]$"
      ],
      "text/plain": [
       "⎡                                2                     ⎤\n",
       "⎢                           R⋅R_c         C₂   R⋅R₀    ⎥\n",
       "⎢-C₁ - C₂⋅log(R_c) + C_Rc - ────── = 0, - ── - ──── = 0⎥\n",
       "⎣                            4⋅D          R₀   2⋅D     ⎦"
      ]
     },
     "execution_count": 6,
     "metadata": {},
     "output_type": "execute_result"
    }
   ],
   "source": [
    "Rc, R0, CRc = symbols(\"R_c, R_0, C_Rc\", positive=True)\n",
    "ics = {c(Rc): CRc, c(r).diff(r).subs(r, R0): 0}\n",
    "parameters = ode_sol.free_symbols - set([D, R, r])\n",
    "eq1 = (ode_sol.lhs - ode_sol.rhs).subs(r, Rc).subs(ics)\n",
    "eq2 = (ode_sol.lhs - ode_sol.rhs).diff(r).subs(r, R0).subs(ics)\n",
    "eqs = [eq1, eq2]\n",
    "[Eq(eq1, 0), Eq(eq2, 0)]"
   ]
  },
  {
   "cell_type": "code",
   "execution_count": 7,
   "metadata": {},
   "outputs": [
    {
     "data": {
      "image/png": "[encoded data removed]",
      "text/latex": [
       "$\\displaystyle \\left\\{ C_{1} : \\frac{C_{Rc} D + \\frac{R R_{0}^{2} \\log{\\left(R_{c} \\right)}}{2} - \\frac{R R_{c}^{2}}{4}}{D}, \\  C_{2} : - \\frac{R R_{0}^{2}}{2 D}\\right\\}$"
      ],
      "text/plain": [
       "⎧                 2                 2             ⎫\n",
       "⎪             R⋅R₀ ⋅log(R_c)   R⋅R_c              ⎪\n",
       "⎪    C_Rc⋅D + ────────────── - ──────           2 ⎪\n",
       "⎨                   2            4         -R⋅R₀  ⎬\n",
       "⎪C₁: ────────────────────────────────, C₂: ───────⎪\n",
       "⎪                   D                        2⋅D  ⎪\n",
       "⎩                                                 ⎭"
      ]
     },
     "execution_count": 7,
     "metadata": {},
     "output_type": "execute_result"
    }
   ],
   "source": [
    "sol_params = solve(eqs, parameters)\n",
    "sol_params"
   ]
  },
  {
   "cell_type": "code",
   "execution_count": 14,
   "metadata": {},
   "outputs": [
    {
     "data": {
      "image/png": "[encoded data removed]",
      "text/latex": [
       "$\\displaystyle c{\\left(r \\right)} = \\frac{4 C_{Rc} D + 2 R R_{0}^{2} \\log{\\left(R_{c} \\right)} - 2 R R_{0}^{2} \\log{\\left(r \\right)} - R R_{c}^{2} + R r^{2}}{4 D}$"
      ],
      "text/plain": [
       "                        2                  2               2      2\n",
       "       4⋅C_Rc⋅D + 2⋅R⋅R₀ ⋅log(R_c) - 2⋅R⋅R₀ ⋅log(r) - R⋅R_c  + R⋅r \n",
       "c(r) = ────────────────────────────────────────────────────────────\n",
       "                                   4⋅D                             "
      ]
     },
     "execution_count": 14,
     "metadata": {},
     "output_type": "execute_result"
    }
   ],
   "source": [
    "cr_sol = ode_sol.subs(sol_params)\n",
    "factor(cr_sol)"
   ]
  }
 ],
 "metadata": {
  "kernelspec": {
   "display_name": "Python 3",
   "language": "python",
   "name": "python3"
  },
  "language_info": {
   "codemirror_mode": {
    "name": "ipython",
    "version": 3
   },
   "file_extension": ".py",
   "mimetype": "text/x-python",
   "name": "python",
   "nbconvert_exporter": "python",
   "pygments_lexer": "ipython3",
   "version": "3.7.4"
  }
 },
 "nbformat": 4,
 "nbformat_minor": 2
}
